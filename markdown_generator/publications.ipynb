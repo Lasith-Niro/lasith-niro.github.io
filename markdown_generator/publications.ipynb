{
 "cells": [
  {
   "cell_type": "markdown",
   "metadata": {
    "deletable": true,
    "editable": true
   },
   "source": [
    "# Publications markdown generator for academicpages\n",
    "\n",
    "Takes a TSV of publications with metadata and converts them for use with [academicpages.github.io](academicpages.github.io). This is an interactive Jupyter notebook ([see more info here](http://jupyter-notebook-beginner-guide.readthedocs.io/en/latest/what_is_jupyter.html)). The core python code is also in `publications.py`. Run either from the `markdown_generator` folder after replacing `publications.tsv` with one containing your data.\n",
    "\n",
    "TODO: Make this work with BibTex and other databases of citations, rather than Stuart's non-standard TSV format and citation style.\n"
   ]
  },
  {
   "cell_type": "markdown",
   "metadata": {},
   "source": [
    "## Data format\n",
    "\n",
    "The TSV needs to have the following columns: pub_date, title, venue, excerpt, citation, site_url, and paper_url, with a header at the top. \n",
    "\n",
    "- `excerpt` and `paper_url` can be blank, but the others must have values. \n",
    "- `pub_date` must be formatted as YYYY-MM-DD.\n",
    "- `url_slug` will be the descriptive part of the .md file and the permalink URL for the page about the paper. The .md file will be `YYYY-MM-DD-[url_slug].md` and the permalink will be `https://[yourdomain]/publications/YYYY-MM-DD-[url_slug]`\n",
    "\n",
    "This is how the raw file looks (it doesn't look pretty, use a spreadsheet or other program to edit and create)."
   ]
  },
  {
   "cell_type": "code",
   "execution_count": 15,
   "metadata": {
    "collapsed": false
   },
   "outputs": [
    {
     "name": "stdout",
     "output_type": "stream",
     "text": [
      "pub_date\ttitle\tvenue\texcerpt\tcitation\turl_slug\tpaper_url\n",
      "05/06/2023\tPoly-GAN: Regularizing Polygons with Generative Adversarial Networks\tLecture Notes in Computer Science\t\"This paper introduces Poly-GAN, a data-driven approach utilizing Deep Learning to regularize irregular building footprints from OpenStreetMap data. Poly-GAN aims to optimize polygonal representations of buildings for digital maps, addressing limitations of traditional methods in accuracy and efficiency.\"\t\"Niroshan, L. and Carswell, J.D., 2023, June. Poly-GAN: Regularizing Polygons with Generative Adversarial Networks. In International Symposium on Web and Wireless Geographical Information Systems (pp. 179-193). Cham: Springer Nature Switzerland.\"\thttps://link.springer.com/chapter/10.1007/978-3-031-34612-5_13\thttps://lasith-niro.github.io/files/polygan.pdf\n",
      "10/06/2022\tMachine Learning with Kay\tAGILE: GIScience Series\t\"This paper explores using Ireland's national supercomputer, Kay, to train Deep Learning models for remote sensing tasks, specifically extracting buildings from satellite imagery. Leveraging Kay's GPU clusters showcases significant advancements in computational efficiency for handling large-scale data in this domain.\"\t\"Niroshan, L. and Carswell, J.D., 2022. Machine learning with kay. AGILE: GIScience Series, 3, p.11.\"\tkay\thttps://lasith-niro.github.io/files/ml-with-kay.pdf\n",
      "19/05/2022\tPost-analysis of OSM-GAN Spatial Change Detection\tISPRS International Journal of Geo-Information\t\"This paper presents a post-analysis of OSM-GAN, a generative adversarial network for spatial change detection in OpenStreetMap data. The study evaluates the model's performance in detecting building footprint changes over time, demonstrating its potential for monitoring urban growth and development.\"\t\"Niroshan, L. and Carswell, J.D., 2022. Post-analysis of OSM-GAN spatial change detection. ISPRS International Journal of Geo-Information, 11(5), p.295Niroshan, L., Carswell, J.D. (2022). Post-analysis of OSM-GAN Spatial Change Detection. In: Karimipour, F., Storandt, S. (eds) Web and Wireless Geographical Information Systems. W2GIS 2022. Lecture Notes in Computer Science, vol 13238. Springer, Cham. https://doi.org/10.1007/978-3-031-06245-2_3  \"\tpost-osm-gan\thttps://lasith-niro.github.io/files/post-osm-gan.pdf\n",
      "10/06/2022\tOSM-GAN: Using Generative Adversarial Networks for Detecting Change in High-Resolution Spatial Images\tInternational Conference on Geoinformatics and Data Analysis\t\"This paper introduces OSM-GAN, a novel approach for detecting spatial changes in high-resolution satellite images. The model leverages generative adversarial networks to identify building footprint changes in OpenStreetMap data, demonstrating its potential for monitoring urban development.\"\t\"Niroshan, L. and Carswell, J.D., 2022. OSM-GAN: Using Generative Adversarial Networks for Detecting Change in High-Resolution Spatial Images. In International Conference on Geoinformatics and Data Analysis (pp. 179-193). Springer, Cham.\"\tosm-gan\thttps://lasith-niro.github.io/files/osm-gan.pdf\n",
      "07/02/2020\tDeepMapper : Automatic Updating Crowdsourced Maps\tTUDublin Annual Research Symposium\t\"This poster summarizes the proposed research on DeepMapper, a Deep Learning-based approach for automatic updating of crowdsourced maps. The study aims to develop a model that can detect and update changes in OpenStreetMap data, facilitating the maintenance of digital maps through automation.\"\t\"Hewa Manage, Lasith Niroshan and Carswell, James, 'DeepMapper : Automatic Updating Crowdsourced Maps' (2020). Other. 3. https://arrow.tudublin.ie/gradcamoth/3\"\tdeepmapper\thttps://lasith-niro.github.io/files/deepmapper-poster.pdf "
     ]
    }
   ],
   "source": [
    "!cat publications.tsv"
   ]
  },
  {
   "cell_type": "markdown",
   "metadata": {},
   "source": [
    "## Import pandas\n",
    "\n",
    "We are using the very handy pandas library for dataframes."
   ]
  },
  {
   "cell_type": "code",
   "execution_count": 16,
   "metadata": {
    "collapsed": true,
    "deletable": true,
    "editable": true
   },
   "outputs": [],
   "source": [
    "import pandas as pd"
   ]
  },
  {
   "cell_type": "markdown",
   "metadata": {},
   "source": [
    "## Import TSV\n",
    "\n",
    "Pandas makes this easy with the read_csv function. We are using a TSV, so we specify the separator as a tab, or `\\t`.\n",
    "\n",
    "I found it important to put this data in a tab-separated values format, because there are a lot of commas in this kind of data and comma-separated values can get messed up. However, you can modify the import statement, as pandas also has read_excel(), read_json(), and others."
   ]
  },
  {
   "cell_type": "code",
   "execution_count": 17,
   "metadata": {
    "collapsed": false,
    "deletable": true,
    "editable": true
   },
   "outputs": [
    {
     "data": {
      "text/html": [
       "<div>\n",
       "<style scoped>\n",
       "    .dataframe tbody tr th:only-of-type {\n",
       "        vertical-align: middle;\n",
       "    }\n",
       "\n",
       "    .dataframe tbody tr th {\n",
       "        vertical-align: top;\n",
       "    }\n",
       "\n",
       "    .dataframe thead th {\n",
       "        text-align: right;\n",
       "    }\n",
       "</style>\n",
       "<table border=\"1\" class=\"dataframe\">\n",
       "  <thead>\n",
       "    <tr style=\"text-align: right;\">\n",
       "      <th></th>\n",
       "      <th>pub_date</th>\n",
       "      <th>title</th>\n",
       "      <th>venue</th>\n",
       "      <th>excerpt</th>\n",
       "      <th>citation</th>\n",
       "      <th>url_slug</th>\n",
       "      <th>paper_url</th>\n",
       "    </tr>\n",
       "  </thead>\n",
       "  <tbody>\n",
       "    <tr>\n",
       "      <th>0</th>\n",
       "      <td>05/06/2023</td>\n",
       "      <td>Poly-GAN: Regularizing Polygons with Generativ...</td>\n",
       "      <td>Lecture Notes in Computer Science</td>\n",
       "      <td>This paper introduces Poly-GAN, a data-driven ...</td>\n",
       "      <td>Niroshan, L. and Carswell, J.D., 2023, June. P...</td>\n",
       "      <td>https://link.springer.com/chapter/10.1007/978-...</td>\n",
       "      <td>https://lasith-niro.github.io/files/polygan.pdf</td>\n",
       "    </tr>\n",
       "    <tr>\n",
       "      <th>1</th>\n",
       "      <td>10/06/2022</td>\n",
       "      <td>Machine Learning with Kay</td>\n",
       "      <td>AGILE: GIScience Series</td>\n",
       "      <td>This paper explores using Ireland's national s...</td>\n",
       "      <td>Niroshan, L. and Carswell, J.D., 2022. Machine...</td>\n",
       "      <td>kay</td>\n",
       "      <td>https://lasith-niro.github.io/files/ml-with-ka...</td>\n",
       "    </tr>\n",
       "    <tr>\n",
       "      <th>2</th>\n",
       "      <td>19/05/2022</td>\n",
       "      <td>Post-analysis of OSM-GAN Spatial Change Detection</td>\n",
       "      <td>ISPRS International Journal of Geo-Information</td>\n",
       "      <td>This paper presents a post-analysis of OSM-GAN...</td>\n",
       "      <td>Niroshan, L. and Carswell, J.D., 2022. Post-an...</td>\n",
       "      <td>post-osm-gan</td>\n",
       "      <td>https://lasith-niro.github.io/files/post-osm-g...</td>\n",
       "    </tr>\n",
       "    <tr>\n",
       "      <th>3</th>\n",
       "      <td>10/06/2022</td>\n",
       "      <td>OSM-GAN: Using Generative Adversarial Networks...</td>\n",
       "      <td>International Conference on Geoinformatics and...</td>\n",
       "      <td>This paper introduces OSM-GAN, a novel approac...</td>\n",
       "      <td>Niroshan, L. and Carswell, J.D., 2022. OSM-GAN...</td>\n",
       "      <td>osm-gan</td>\n",
       "      <td>https://lasith-niro.github.io/files/osm-gan.pdf</td>\n",
       "    </tr>\n",
       "    <tr>\n",
       "      <th>4</th>\n",
       "      <td>07/02/2020</td>\n",
       "      <td>DeepMapper : Automatic Updating Crowdsourced Maps</td>\n",
       "      <td>TUDublin Annual Research Symposium</td>\n",
       "      <td>This poster summarizes the proposed research o...</td>\n",
       "      <td>Hewa Manage, Lasith Niroshan and Carswell, Jam...</td>\n",
       "      <td>deepmapper</td>\n",
       "      <td>https://lasith-niro.github.io/files/deepmapper...</td>\n",
       "    </tr>\n",
       "  </tbody>\n",
       "</table>\n",
       "</div>"
      ],
      "text/plain": [
       "     pub_date                                              title  \\\n",
       "0  05/06/2023  Poly-GAN: Regularizing Polygons with Generativ...   \n",
       "1  10/06/2022                          Machine Learning with Kay   \n",
       "2  19/05/2022  Post-analysis of OSM-GAN Spatial Change Detection   \n",
       "3  10/06/2022  OSM-GAN: Using Generative Adversarial Networks...   \n",
       "4  07/02/2020  DeepMapper : Automatic Updating Crowdsourced Maps   \n",
       "\n",
       "                                               venue  \\\n",
       "0                  Lecture Notes in Computer Science   \n",
       "1                            AGILE: GIScience Series   \n",
       "2     ISPRS International Journal of Geo-Information   \n",
       "3  International Conference on Geoinformatics and...   \n",
       "4                 TUDublin Annual Research Symposium   \n",
       "\n",
       "                                             excerpt  \\\n",
       "0  This paper introduces Poly-GAN, a data-driven ...   \n",
       "1  This paper explores using Ireland's national s...   \n",
       "2  This paper presents a post-analysis of OSM-GAN...   \n",
       "3  This paper introduces OSM-GAN, a novel approac...   \n",
       "4  This poster summarizes the proposed research o...   \n",
       "\n",
       "                                            citation  \\\n",
       "0  Niroshan, L. and Carswell, J.D., 2023, June. P...   \n",
       "1  Niroshan, L. and Carswell, J.D., 2022. Machine...   \n",
       "2  Niroshan, L. and Carswell, J.D., 2022. Post-an...   \n",
       "3  Niroshan, L. and Carswell, J.D., 2022. OSM-GAN...   \n",
       "4  Hewa Manage, Lasith Niroshan and Carswell, Jam...   \n",
       "\n",
       "                                            url_slug  \\\n",
       "0  https://link.springer.com/chapter/10.1007/978-...   \n",
       "1                                                kay   \n",
       "2                                       post-osm-gan   \n",
       "3                                            osm-gan   \n",
       "4                                         deepmapper   \n",
       "\n",
       "                                           paper_url  \n",
       "0    https://lasith-niro.github.io/files/polygan.pdf  \n",
       "1  https://lasith-niro.github.io/files/ml-with-ka...  \n",
       "2  https://lasith-niro.github.io/files/post-osm-g...  \n",
       "3    https://lasith-niro.github.io/files/osm-gan.pdf  \n",
       "4  https://lasith-niro.github.io/files/deepmapper...  "
      ]
     },
     "execution_count": 17,
     "metadata": {},
     "output_type": "execute_result"
    }
   ],
   "source": [
    "publications = pd.read_csv(\"publications.tsv\", sep=\"\\t\", header=0, encoding=\"utf-8\")\n",
    "publications"
   ]
  },
  {
   "cell_type": "markdown",
   "metadata": {},
   "source": [
    "## Escape special characters\n",
    "\n",
    "YAML is very picky about how it takes a valid string, so we are replacing single and double quotes (and ampersands) with their HTML encoded equivilents. This makes them look not so readable in raw format, but they are parsed and rendered nicely."
   ]
  },
  {
   "cell_type": "code",
   "execution_count": 18,
   "metadata": {
    "collapsed": true,
    "deletable": true,
    "editable": true
   },
   "outputs": [],
   "source": [
    "html_escape_table = {\n",
    "    \"&\": \"&amp;\",\n",
    "    '\"': \"&quot;\",\n",
    "    \"'\": \"&apos;\"\n",
    "    }\n",
    "\n",
    "def html_escape(text):\n",
    "    \"\"\"Produce entities within text.\"\"\"\n",
    "    return \"\".join(html_escape_table.get(c,c) for c in text)"
   ]
  },
  {
   "cell_type": "markdown",
   "metadata": {},
   "source": [
    "## Creating the markdown files\n",
    "\n",
    "This is where the heavy lifting is done. This loops through all the rows in the TSV dataframe, then starts to concatentate a big string (```md```) that contains the markdown for each type. It does the YAML metadata first, then does the description for the individual page."
   ]
  },
  {
   "cell_type": "code",
   "execution_count": 19,
   "metadata": {
    "collapsed": false,
    "deletable": true,
    "editable": true
   },
   "outputs": [
    {
     "name": "stdout",
     "output_type": "stream",
     "text": [
      ">> Poly-GAN: Regularizing Polygons with Generative Adversarial Networks\n",
      ">> Machine Learning with Kay\n",
      ">> Post-analysis of OSM-GAN Spatial Change Detection\n",
      ">> OSM-GAN: Using Generative Adversarial Networks for Detecting Change in High-Resolution Spatial Images\n",
      ">> DeepMapper : Automatic Updating Crowdsourced Maps\n"
     ]
    }
   ],
   "source": [
    "import os\n",
    "for row, item in publications.iterrows():\n",
    "    print(f\">> {item.title}\")\n",
    "    \n",
    "    md_filename = str(item.pub_date) + \"-\" + item.url_slug + \".md\"\n",
    "    html_filename = str(item.pub_date) + \"-\" + item.url_slug\n",
    "    year = item.pub_date[:4]\n",
    "    \n",
    "    ## YAML variables\n",
    "    \n",
    "    md = \"---\\ntitle: \\\"\"   + item.title + '\"\\n'\n",
    "    \n",
    "    md += \"\"\"collection: publications\"\"\"\n",
    "    \n",
    "    md += \"\"\"\\npermalink: /publication/\"\"\" + html_filename\n",
    "    \n",
    "    if len(str(item.excerpt)) > 5:\n",
    "        md += \"\\nexcerpt: '\" + html_escape(item.excerpt) + \"'\"\n",
    "    \n",
    "    md += \"\\ndate: \" + str(item.pub_date) \n",
    "    \n",
    "    md += \"\\nvenue: '\" + html_escape(item.venue) + \"'\"\n",
    "    \n",
    "    if len(str(item.paper_url)) > 5:\n",
    "        md += \"\\npaperurl: '\" + item.paper_url + \"'\"\n",
    "    \n",
    "    md += \"\\ncitation: '\" + html_escape(item.citation) + \"'\"\n",
    "    \n",
    "    md += \"\\n---\"\n",
    "    \n",
    "    ## Markdown description for individual page\n",
    "        \n",
    "    if len(str(item.excerpt)) > 5:\n",
    "        md += \"\\n\" + html_escape(item.excerpt) + \"\\n\"\n",
    "    \n",
    "    if len(str(item.paper_url)) > 5:\n",
    "        md += \"\\n[Download paper here](\" + item.paper_url + \")\\n\" \n",
    "        \n",
    "    md += \"\\nRecommended citation: \" + item.citation\n",
    "    \n",
    "    md_filename = os.path.basename(md_filename)\n",
    "       \n",
    "    with open(\"../_publications/\" + md_filename, 'w') as f:\n",
    "        f.write(md)"
   ]
  },
  {
   "cell_type": "markdown",
   "metadata": {},
   "source": [
    "These files are in the publications directory, one directory below where we're working from."
   ]
  },
  {
   "cell_type": "code",
   "execution_count": 20,
   "metadata": {
    "collapsed": false,
    "deletable": true,
    "editable": true
   },
   "outputs": [
    {
     "name": "stdout",
     "output_type": "stream",
     "text": [
      "2020-deepmapper.md      2022-osm-gan.md         978-3-031-34612-5_13.md\n",
      "2022-kay.md             2022-post-osm-gan.md\n"
     ]
    }
   ],
   "source": [
    "!ls ../_publications/"
   ]
  },
  {
   "cell_type": "code",
   "execution_count": 21,
   "metadata": {
    "collapsed": false,
    "deletable": true,
    "editable": true
   },
   "outputs": [
    {
     "name": "stdout",
     "output_type": "stream",
     "text": [
      "---\n",
      "title: \"Poly-GAN: Regularizing Polygons with Generative Adversarial Networks\"\n",
      "collection: publications\n",
      "permalink: /publication/05/06/2023-https://link.springer.com/chapter/10.1007/978-3-031-34612-5_13\n",
      "excerpt: 'This paper introduces Poly-GAN, a data-driven approach utilizing Deep Learning to regularize irregular building footprints from OpenStreetMap data. Poly-GAN aims to optimize polygonal representations of buildings for digital maps, addressing limitations of traditional methods in accuracy and efficiency.'\n",
      "date: 05/06/2023\n",
      "venue: 'Lecture Notes in Computer Science'\n",
      "paperurl: 'https://lasith-niro.github.io/files/polygan.pdf'\n",
      "citation: 'Niroshan, L. and Carswell, J.D., 2023, June. Poly-GAN: Regularizing Polygons with Generative Adversarial Networks. In International Symposium on Web and Wireless Geographical Information Systems (pp. 179-193). Cham: Springer Nature Switzerland.'\n",
      "---\n",
      "This paper introduces Poly-GAN, a data-driven approach utilizing Deep Learning to regularize irregular building footprints from OpenStreetMap data. Poly-GAN aims to optimize polygonal representations of buildings for digital maps, addressing limitations of traditional methods in accuracy and efficiency.\n",
      "\n",
      "[Download paper here](https://lasith-niro.github.io/files/polygan.pdf)\n",
      "\n",
      "Recommended citation: Niroshan, L. and Carswell, J.D., 2023, June. Poly-GAN: Regularizing Polygons with Generative Adversarial Networks. In International Symposium on Web and Wireless Geographical Information Systems (pp. 179-193). Cham: Springer Nature Switzerland."
     ]
    }
   ],
   "source": [
    "!cat ../_publications/978-3-031-34612-5_13.md"
   ]
  },
  {
   "cell_type": "code",
   "execution_count": null,
   "metadata": {
    "collapsed": true,
    "deletable": true,
    "editable": true
   },
   "outputs": [],
   "source": []
  }
 ],
 "metadata": {
  "kernelspec": {
   "display_name": "Python 3",
   "language": "python",
   "name": "python3"
  },
  "language_info": {
   "codemirror_mode": {
    "name": "ipython",
    "version": 3
   },
   "file_extension": ".py",
   "mimetype": "text/x-python",
   "name": "python",
   "nbconvert_exporter": "python",
   "pygments_lexer": "ipython3",
   "version": "3.12.1"
  }
 },
 "nbformat": 4,
 "nbformat_minor": 0
}
